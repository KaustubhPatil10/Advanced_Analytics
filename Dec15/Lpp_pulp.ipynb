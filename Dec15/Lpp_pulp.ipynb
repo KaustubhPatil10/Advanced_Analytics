{
 "cells": [
  {
   "cell_type": "code",
   "execution_count": 1,
   "id": "8df6e929",
   "metadata": {},
   "outputs": [],
   "source": [
    "import pulp as p"
   ]
  },
  {
   "cell_type": "markdown",
   "id": "bbdaa569",
   "metadata": {},
   "source": [
    "## Maximization\n"
   ]
  },
  {
   "cell_type": "code",
   "execution_count": 4,
   "id": "0d6887eb",
   "metadata": {},
   "outputs": [],
   "source": [
    "Lp_prob = p.LpProblem(\"Problem1\",p.LpMaximize)"
   ]
  },
  {
   "cell_type": "markdown",
   "id": "948341ad",
   "metadata": {},
   "source": [
    "## Decision variables"
   ]
  },
  {
   "cell_type": "code",
   "execution_count": 5,
   "id": "f0749cd4",
   "metadata": {},
   "outputs": [],
   "source": [
    "x1 = p.LpVariable(\"x1\",lowBound = 0) # create a variable x >= 0\n",
    "x2 = p.LpVariable(\"x2\",lowBound = 0) # create a variable y >= 0\n"
   ]
  },
  {
   "cell_type": "markdown",
   "id": "4bc74fd4",
   "metadata": {},
   "source": [
    "## Objective Function"
   ]
  },
  {
   "cell_type": "code",
   "execution_count": 6,
   "id": "ce35a966",
   "metadata": {},
   "outputs": [],
   "source": [
    "Lp_prob += 5*x1 + 7*x2"
   ]
  },
  {
   "cell_type": "markdown",
   "id": "fe89e1d0",
   "metadata": {},
   "source": [
    "## Constraints"
   ]
  },
  {
   "cell_type": "code",
   "execution_count": 8,
   "id": "ced2e6d1",
   "metadata": {},
   "outputs": [],
   "source": [
    "Lp_prob += 1*x1 + 0*x2 <= 6\n",
    "Lp_prob += 2*x1 + 3*x2 <= 19\n",
    "Lp_prob += 1*x1 + 1*x2 <= 8\n"
   ]
  },
  {
   "cell_type": "code",
   "execution_count": 9,
   "id": "a147c1f4",
   "metadata": {},
   "outputs": [
    {
     "name": "stdout",
     "output_type": "stream",
     "text": [
      "Problem1:\n",
      "MAXIMIZE\n",
      "5*x1 + 7*x2 + 0\n",
      "SUBJECT TO\n",
      "_C1: x1 <= 6\n",
      "\n",
      "_C2: x1 <= 6\n",
      "\n",
      "_C3: x1 <= 6\n",
      "\n",
      "_C4: x1 <= 6\n",
      "\n",
      "_C5: 2 x1 + 3 x2 <= 19\n",
      "\n",
      "_C6: x1 + x2 <= 8\n",
      "\n",
      "VARIABLES\n",
      "x1 Continuous\n",
      "x2 Continuous\n",
      "\n"
     ]
    }
   ],
   "source": [
    "print(Lp_prob)"
   ]
  },
  {
   "cell_type": "markdown",
   "id": "69df54b6",
   "metadata": {},
   "source": [
    "## Solving the LPP"
   ]
  },
  {
   "cell_type": "code",
   "execution_count": 12,
   "id": "2abe9478",
   "metadata": {},
   "outputs": [
    {
     "name": "stdout",
     "output_type": "stream",
     "text": [
      "Optimal\n"
     ]
    }
   ],
   "source": [
    "status = Lp_prob.solve()\n",
    "print(p.LpStatus[status])"
   ]
  },
  {
   "cell_type": "markdown",
   "id": "a33eff5c",
   "metadata": {},
   "source": [
    "## Solution"
   ]
  },
  {
   "cell_type": "code",
   "execution_count": 13,
   "id": "36eb4fae",
   "metadata": {},
   "outputs": [
    {
     "name": "stdout",
     "output_type": "stream",
     "text": [
      "x1 = 5.0\n",
      "x2 = 3.0\n",
      "Objective = 46.0\n"
     ]
    }
   ],
   "source": [
    "print(\"x1 =\", p.value(x1))\n",
    "print(\"x2 =\", p.value(x2))\n",
    "print(\"Objective =\", p.value(Lp_prob.objective))"
   ]
  },
  {
   "cell_type": "code",
   "execution_count": null,
   "id": "7425c29b",
   "metadata": {},
   "outputs": [],
   "source": []
  },
  {
   "cell_type": "markdown",
   "id": "198429e9",
   "metadata": {},
   "source": [
    "# Problem 2"
   ]
  },
  {
   "cell_type": "markdown",
   "id": "2135541a",
   "metadata": {},
   "source": [
    "### Minimization"
   ]
  },
  {
   "cell_type": "code",
   "execution_count": 14,
   "id": "d0052f2d",
   "metadata": {},
   "outputs": [],
   "source": [
    "Lp_prob = p.LpProblem('Breweries',p.LpMinimize)"
   ]
  },
  {
   "cell_type": "markdown",
   "id": "ad843c7d",
   "metadata": {},
   "source": [
    "## Decision Variables"
   ]
  },
  {
   "cell_type": "code",
   "execution_count": 15,
   "id": "a4ccf4cf",
   "metadata": {},
   "outputs": [],
   "source": [
    "x1 = p.LpVariable(\"x1\",lowBound = 0) # create a variable x >= 0\n",
    "x2 = p.LpVariable(\"x2\",lowBound = 0) # create a variable y >= 0"
   ]
  },
  {
   "cell_type": "markdown",
   "id": "7a107b21",
   "metadata": {},
   "source": [
    "## Objective Function"
   ]
  },
  {
   "cell_type": "code",
   "execution_count": 16,
   "id": "11e08d76",
   "metadata": {},
   "outputs": [],
   "source": [
    "Lp_prob += 600*x1 + 400*x2"
   ]
  },
  {
   "cell_type": "markdown",
   "id": "20e052c3",
   "metadata": {},
   "source": [
    "## Constraints"
   ]
  },
  {
   "cell_type": "code",
   "execution_count": 19,
   "id": "8e63b92d",
   "metadata": {},
   "outputs": [],
   "source": [
    "Lp_prob += 1500*x1 + 1500*x2 >= 20000\n",
    "Lp_prob += 3000*x1 + 1000*x2 >= 40000\n",
    "Lp_prob += 2000*x1 + 5000*x2 >= 44000\n",
    "Lp_prob += 1*x1 + 0*x2 <= 30\n",
    "Lp_prob += 0*x1 + 1*x2 <= 30"
   ]
  },
  {
   "cell_type": "code",
   "execution_count": 20,
   "id": "093ab300",
   "metadata": {},
   "outputs": [
    {
     "name": "stdout",
     "output_type": "stream",
     "text": [
      "Breweries:\n",
      "MINIMIZE\n",
      "600*x1 + 400*x2 + 0\n",
      "SUBJECT TO\n",
      "_C1: 1500 x1 + 1500 x2 >= 20000\n",
      "\n",
      "_C2: 3000 x1 + 1000 x2 >= 40000\n",
      "\n",
      "_C3: 2000 x1 + 5000 x2 >= 44000\n",
      "\n",
      "_C4: 1500 x1 + 1500 x2 >= 20000\n",
      "\n",
      "_C5: 3000 x1 + 1000 x2 >= 40000\n",
      "\n",
      "_C6: 2000 x1 + 5000 x2 >= 44000\n",
      "\n",
      "_C7: x1 <= 30\n",
      "\n",
      "_C8: x2 <= 30\n",
      "\n",
      "VARIABLES\n",
      "x1 Continuous\n",
      "x2 Continuous\n",
      "\n"
     ]
    }
   ],
   "source": [
    "print(Lp_prob)"
   ]
  },
  {
   "cell_type": "markdown",
   "id": "e1dd5b98",
   "metadata": {},
   "source": [
    "## Solving the LPP"
   ]
  },
  {
   "cell_type": "code",
   "execution_count": 22,
   "id": "1add6a6d",
   "metadata": {},
   "outputs": [
    {
     "name": "stdout",
     "output_type": "stream",
     "text": [
      "Optimal\n"
     ]
    }
   ],
   "source": [
    "status = Lp_prob.solve()\n",
    "print(p.LpStatus[status])"
   ]
  },
  {
   "cell_type": "code",
   "execution_count": 23,
   "id": "2aa4ef07",
   "metadata": {},
   "outputs": [
    {
     "name": "stdout",
     "output_type": "stream",
     "text": [
      "x1 = 12.0\n",
      "x2 = 4.0\n",
      "Objective = 8800.0\n"
     ]
    }
   ],
   "source": [
    "print(\"x1 =\", p.value(x1))\n",
    "print(\"x2 =\", p.value(x2))\n",
    "print(\"Objective =\", p.value(Lp_prob.objective))"
   ]
  },
  {
   "cell_type": "code",
   "execution_count": 25,
   "id": "5e3da7ca",
   "metadata": {},
   "outputs": [],
   "source": []
  },
  {
   "cell_type": "markdown",
   "id": "d7bd135b",
   "metadata": {},
   "source": [
    "# Problem 3"
   ]
  },
  {
   "cell_type": "code",
   "execution_count": 33,
   "id": "906ec6f4",
   "metadata": {},
   "outputs": [],
   "source": [
    "Lp_prob = p.LpProblem('Problem3',p.LpMaximize)\n",
    "# can write any NAME   HERE ^"
   ]
  },
  {
   "cell_type": "markdown",
   "id": "bf71e172",
   "metadata": {},
   "source": [
    "## Decision Variables"
   ]
  },
  {
   "cell_type": "code",
   "execution_count": 27,
   "id": "9db898f4",
   "metadata": {},
   "outputs": [],
   "source": [
    "x1 = p.LpVariable(\"x1\",lowBound = 0) # create a variable x <= 0\n",
    "x2 = p.LpVariable(\"x2\",lowBound = 0) # create a variable y <= 0"
   ]
  },
  {
   "cell_type": "markdown",
   "id": "89748d24",
   "metadata": {},
   "source": [
    "## Objective Function"
   ]
  },
  {
   "cell_type": "code",
   "execution_count": 28,
   "id": "c91d6547",
   "metadata": {},
   "outputs": [],
   "source": [
    "Lp_prob += 40*x1 + 100*x2"
   ]
  },
  {
   "cell_type": "markdown",
   "id": "3388f021",
   "metadata": {},
   "source": [
    "## Constraints"
   ]
  },
  {
   "cell_type": "code",
   "execution_count": 29,
   "id": "5f1d5b33",
   "metadata": {},
   "outputs": [],
   "source": [
    "Lp_prob += 12*x1 +  6*x2 <= 3000\n",
    "Lp_prob +=  4*x1 + 10*x2 <= 2000\n",
    "Lp_prob +=  2*x1 +  3*x2 <= 900\n"
   ]
  },
  {
   "cell_type": "code",
   "execution_count": 30,
   "id": "c322109b",
   "metadata": {},
   "outputs": [
    {
     "name": "stdout",
     "output_type": "stream",
     "text": [
      "Problem3:\n",
      "MAXIMIZE\n",
      "40*x1 + 100*x2 + 0\n",
      "SUBJECT TO\n",
      "_C1: 12 x1 + 6 x2 <= 3000\n",
      "\n",
      "_C2: 4 x1 + 10 x2 <= 2000\n",
      "\n",
      "_C3: 2 x1 + 3 x2 <= 900\n",
      "\n",
      "VARIABLES\n",
      "x1 Continuous\n",
      "x2 Continuous\n",
      "\n"
     ]
    }
   ],
   "source": [
    "print(Lp_prob)"
   ]
  },
  {
   "cell_type": "markdown",
   "id": "532f3661",
   "metadata": {},
   "source": [
    "## Solving the LPP"
   ]
  },
  {
   "cell_type": "code",
   "execution_count": 31,
   "id": "7915a021",
   "metadata": {},
   "outputs": [
    {
     "name": "stdout",
     "output_type": "stream",
     "text": [
      "Optimal\n"
     ]
    }
   ],
   "source": [
    "status = Lp_prob.solve()\n",
    "print(p.LpStatus[status])"
   ]
  },
  {
   "cell_type": "code",
   "execution_count": 32,
   "id": "f31c0424",
   "metadata": {},
   "outputs": [
    {
     "name": "stdout",
     "output_type": "stream",
     "text": [
      "x1 = 0.0\n",
      "x2 = 200.0\n",
      "Objective = 20000.0\n"
     ]
    }
   ],
   "source": [
    "print(\"x1 =\", p.value(x1))\n",
    "print(\"x2 =\", p.value(x2))\n",
    "print(\"Objective =\", p.value(Lp_prob.objective))"
   ]
  },
  {
   "cell_type": "code",
   "execution_count": null,
   "id": "1cdbe81f",
   "metadata": {},
   "outputs": [],
   "source": []
  },
  {
   "cell_type": "markdown",
   "id": "0d8e8e34",
   "metadata": {},
   "source": [
    "# Problem 3.1"
   ]
  },
  {
   "cell_type": "code",
   "execution_count": 34,
   "id": "82444361",
   "metadata": {},
   "outputs": [],
   "source": [
    "Lp_prob = p.LpProblem('Problem3.1',p.LpMinimize)"
   ]
  },
  {
   "cell_type": "markdown",
   "id": "05d4269c",
   "metadata": {},
   "source": [
    "## Decision Variables"
   ]
  },
  {
   "cell_type": "code",
   "execution_count": 35,
   "id": "f98babc6",
   "metadata": {},
   "outputs": [],
   "source": [
    "x1 = p.LpVariable(\"x1\",lowBound = 0) # create a variable x >= 0\n",
    "x2 = p.LpVariable(\"x2\",lowBound = 0) # create a variable y >= 0"
   ]
  },
  {
   "cell_type": "markdown",
   "id": "b9735f4a",
   "metadata": {},
   "source": [
    "## Objective Function"
   ]
  },
  {
   "cell_type": "code",
   "execution_count": 36,
   "id": "ffe72aab",
   "metadata": {},
   "outputs": [],
   "source": [
    "Lp_prob += 700*x1 + 550*x2"
   ]
  },
  {
   "cell_type": "markdown",
   "id": "8507cf5e",
   "metadata": {},
   "source": [
    "## Constraints"
   ]
  },
  {
   "cell_type": "code",
   "execution_count": 37,
   "id": "c514269a",
   "metadata": {},
   "outputs": [],
   "source": [
    "Lp_prob +=  3000*x1 + 1000*x2 >= 24000\n",
    "Lp_prob +=  1000*x1 + 1000*x2 >= 16000\n",
    "Lp_prob +=  2000*x1 + 6000*x2 >= 48000\n"
   ]
  },
  {
   "cell_type": "code",
   "execution_count": 38,
   "id": "ed62aa42",
   "metadata": {},
   "outputs": [
    {
     "name": "stdout",
     "output_type": "stream",
     "text": [
      "Problem3.1:\n",
      "MINIMIZE\n",
      "700*x1 + 550*x2 + 0\n",
      "SUBJECT TO\n",
      "_C1: 3000 x1 + 1000 x2 >= 24000\n",
      "\n",
      "_C2: 1000 x1 + 1000 x2 >= 16000\n",
      "\n",
      "_C3: 2000 x1 + 6000 x2 >= 48000\n",
      "\n",
      "VARIABLES\n",
      "x1 Continuous\n",
      "x2 Continuous\n",
      "\n"
     ]
    }
   ],
   "source": [
    "print(Lp_prob)\n"
   ]
  },
  {
   "cell_type": "markdown",
   "id": "463993ae",
   "metadata": {},
   "source": [
    "## Solving the LPP"
   ]
  },
  {
   "cell_type": "code",
   "execution_count": 39,
   "id": "642ba996",
   "metadata": {},
   "outputs": [
    {
     "name": "stdout",
     "output_type": "stream",
     "text": [
      "Optimal\n"
     ]
    }
   ],
   "source": [
    "status = Lp_prob.solve()\n",
    "print(p.LpStatus[status])"
   ]
  },
  {
   "cell_type": "code",
   "execution_count": 40,
   "id": "f746a400",
   "metadata": {},
   "outputs": [
    {
     "name": "stdout",
     "output_type": "stream",
     "text": [
      "x1 = 4.0\n",
      "x2 = 12.0\n",
      "Objective = 9400.0\n"
     ]
    }
   ],
   "source": [
    "print(\"x1 =\", p.value(x1))\n",
    "print(\"x2 =\", p.value(x2))\n",
    "print(\"Objective =\", p.value(Lp_prob.objective))"
   ]
  },
  {
   "cell_type": "markdown",
   "id": "67ec25b4",
   "metadata": {},
   "source": [
    "# Problem 4"
   ]
  },
  {
   "cell_type": "code",
   "execution_count": 41,
   "id": "5edbc770",
   "metadata": {},
   "outputs": [],
   "source": [
    "Lp_prob = p.LpProblem('Problem4',p.LpMinimize)"
   ]
  },
  {
   "cell_type": "markdown",
   "id": "c84d9a0e",
   "metadata": {},
   "source": [
    "## Decision Variables"
   ]
  },
  {
   "cell_type": "code",
   "execution_count": 42,
   "id": "4b8cf00a",
   "metadata": {},
   "outputs": [],
   "source": [
    "x1 = p.LpVariable(\"x1\",lowBound = 0) # create a variable x >= 0\n",
    "x2 = p.LpVariable(\"x2\",lowBound = 0) # create a variable y >= 0\n",
    "x3 = p.LpVariable(\"x3\",lowBound = 0) # create a variable z <= 0"
   ]
  },
  {
   "cell_type": "markdown",
   "id": "2fcb15af",
   "metadata": {},
   "source": [
    "## Objective Function\n"
   ]
  },
  {
   "cell_type": "code",
   "execution_count": 43,
   "id": "4fa3f6a7",
   "metadata": {},
   "outputs": [],
   "source": [
    "Lp_prob += 0.3*x1 + 0.9*x2"
   ]
  },
  {
   "cell_type": "markdown",
   "id": "b5c48b97",
   "metadata": {},
   "source": [
    "## Constraints"
   ]
  },
  {
   "cell_type": "code",
   "execution_count": 44,
   "id": "bc019658",
   "metadata": {},
   "outputs": [],
   "source": [
    "Lp_prob +=  0.09*x1 +  0.6*x2 >= 240\n",
    "Lp_prob +=     1*x1 +    1*x2 >= 800\n",
    "Lp_prob +=  0.02*x1 + 0.06*x2 <= 40\n"
   ]
  },
  {
   "cell_type": "code",
   "execution_count": 45,
   "id": "e7147ab2",
   "metadata": {},
   "outputs": [
    {
     "name": "stdout",
     "output_type": "stream",
     "text": [
      "Problem4:\n",
      "MINIMIZE\n",
      "0.3*x1 + 0.9*x2 + 0.0\n",
      "SUBJECT TO\n",
      "_C1: 0.09 x1 + 0.6 x2 >= 240\n",
      "\n",
      "_C2: x1 + x2 >= 800\n",
      "\n",
      "_C3: 0.02 x1 + 0.06 x2 <= 40\n",
      "\n",
      "VARIABLES\n",
      "x1 Continuous\n",
      "x2 Continuous\n",
      "\n"
     ]
    }
   ],
   "source": [
    "print(Lp_prob)"
   ]
  },
  {
   "cell_type": "markdown",
   "id": "03abc62c",
   "metadata": {},
   "source": [
    "## Solving the LPP"
   ]
  },
  {
   "cell_type": "code",
   "execution_count": 46,
   "id": "0d599b02",
   "metadata": {},
   "outputs": [
    {
     "name": "stdout",
     "output_type": "stream",
     "text": [
      "Optimal\n"
     ]
    }
   ],
   "source": [
    "status = Lp_prob.solve()\n",
    "print(p.LpStatus[status])"
   ]
  },
  {
   "cell_type": "code",
   "execution_count": 47,
   "id": "ba541968",
   "metadata": {},
   "outputs": [
    {
     "name": "stdout",
     "output_type": "stream",
     "text": [
      "x1 = 470.58824\n",
      "x2 = 329.41176\n",
      "Objective = 437.647056\n"
     ]
    }
   ],
   "source": [
    "print(\"x1 =\", p.value(x1))\n",
    "print(\"x2 =\", p.value(x2))\n",
    "print(\"Objective =\", p.value(Lp_prob.objective))"
   ]
  },
  {
   "cell_type": "code",
   "execution_count": null,
   "id": "a9054a91",
   "metadata": {},
   "outputs": [],
   "source": []
  }
 ],
 "metadata": {
  "kernelspec": {
   "display_name": "Python 3 (ipykernel)",
   "language": "python",
   "name": "python3"
  },
  "language_info": {
   "codemirror_mode": {
    "name": "ipython",
    "version": 3
   },
   "file_extension": ".py",
   "mimetype": "text/x-python",
   "name": "python",
   "nbconvert_exporter": "python",
   "pygments_lexer": "ipython3",
   "version": "3.9.13"
  }
 },
 "nbformat": 4,
 "nbformat_minor": 5
}
